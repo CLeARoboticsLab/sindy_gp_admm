{
 "cells": [
  {
   "cell_type": "markdown",
   "metadata": {},
   "source": [
    "## Least Squares with Julia \n",
    "\n",
    "Least Squares is an optimization problem: \n",
    "\n",
    "\\begin{equation*}\n",
    "    \\operatorname*{argmin}_{x} || Ax - b||^2 \n",
    "\\end{equation*} \n",
    "\n",
    "which seeks to find a solution, $x$, for the following problem: \n",
    "\n",
    "\\begin{equation*}\n",
    "    Ax = b \n",
    "\\end{equation*}\n",
    "\n",
    "It can be solved algebraically:\n",
    "\n",
    "\\begin{equation*}\n",
    "    \\hat{x} = ( A^TA )^{-1}A^Tb\n",
    "\\end{equation*}\n",
    "\n",
    "Now in Julia: \n",
    "\n",
    "\n"
   ]
  },
  {
   "cell_type": "code",
   "execution_count": 3,
   "metadata": {},
   "outputs": [
    {
     "data": {
      "text/plain": [
       "3×1 Matrix{Float64}:\n",
       "  1.1957314814884485\n",
       "  0.298602178563043\n",
       " -0.016215223984484307"
      ]
     },
     "metadata": {},
     "output_type": "display_data"
    },
    {
     "data": {
      "text/plain": [
       "3×1 Matrix{Float64}:\n",
       "  1.1957314814884485\n",
       "  0.2986021785630431\n",
       " -0.016215223984483676"
      ]
     },
     "metadata": {},
     "output_type": "display_data"
    }
   ],
   "source": [
    "A = rand(3,3) \n",
    "b = rand(3,1) ; \n",
    "\n",
    "# traditional least squares \n",
    "xhat = inv( A'*A )*(A'*b)\n",
    "display(xhat) \n",
    "\n",
    "# faster way \n",
    "xhat = A \\ b\n",
    "display(xhat)  "
   ]
  },
  {
   "cell_type": "code",
   "execution_count": null,
   "metadata": {},
   "outputs": [],
   "source": []
  }
 ],
 "metadata": {
  "kernelspec": {
   "display_name": "Julia 1.8.2",
   "language": "julia",
   "name": "julia-1.8"
  },
  "language_info": {
   "file_extension": ".jl",
   "mimetype": "application/julia",
   "name": "julia",
   "version": "1.8.2"
  },
  "orig_nbformat": 4
 },
 "nbformat": 4,
 "nbformat_minor": 2
}
