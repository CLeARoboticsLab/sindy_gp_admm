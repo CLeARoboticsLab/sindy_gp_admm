{
 "cells": [
  {
   "attachments": {},
   "cell_type": "markdown",
   "metadata": {},
   "source": [
    "## Makie Tutorial "
   ]
  },
  {
   "attachments": {},
   "cell_type": "markdown",
   "metadata": {},
   "source": [
    "`Makie` is the frontend package that defines all plotting functions. **`Makie.jl` is reexported by every backend, so you don't have to specifically install or import it.**\n",
    "\n",
    "There are 3 main backends: \n",
    "\n",
    "- `GLMakie.jl` - for interactive windows and true 3D rendering but no vector output (?) \n",
    "- `CairoMakie.jl` - for rendering vector graphics or high quality 2D images and don't need interactivity or true 3D rendering   \n",
    "- `WGLMakie.jl` - similar to `GLMakie.jl` but works in web browsers, not native windows \n",
    "\n",
    "You can activate any backend by calling the appropriate package and calling its `activate!` function. This tutorial will use `CairoMakie` as an example. This makes all exported symbols from `Makie.jl` available as well: "
   ]
  },
  {
   "cell_type": "code",
   "execution_count": null,
   "metadata": {},
   "outputs": [],
   "source": [
    "using CairoMakie "
   ]
  }
 ],
 "metadata": {
  "kernelspec": {
   "display_name": "Julia 1.8.3",
   "language": "julia",
   "name": "julia-1.8"
  },
  "language_info": {
   "name": "julia"
  },
  "orig_nbformat": 4
 },
 "nbformat": 4,
 "nbformat_minor": 2
}
