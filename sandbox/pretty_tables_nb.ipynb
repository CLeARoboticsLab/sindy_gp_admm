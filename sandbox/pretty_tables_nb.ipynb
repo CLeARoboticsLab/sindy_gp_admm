{
 "cells": [
  {
   "attachments": {},
   "cell_type": "markdown",
   "metadata": {},
   "source": [
    "## Testing using PrettyTables.jl \n",
    "\n",
    "Main help page: \n",
    "https://ronisbr.github.io/PrettyTables.jl/stable/man/usage/#Usage \n",
    "\n",
    "First example: "
   ]
  },
  {
   "cell_type": "code",
   "execution_count": 4,
   "metadata": {},
   "outputs": [
    {
     "name": "stdout",
     "output_type": "stream",
     "text": [
      "┌──────────┬──────────┬──────────┐\n",
      "│\u001b[1m Column 1 \u001b[0m│\u001b[1m Column 2 \u001b[0m│\u001b[1m Column 3 \u001b[0m│\n",
      "├──────────┼──────────┼──────────┤\n",
      "│        1 │        2 │        3 │\n",
      "│        4 │        5 │        6 │\n",
      "└──────────┴──────────┴──────────┘\n"
     ]
    }
   ],
   "source": [
    "using PrettyTables\n",
    "\n",
    "data = [1 2 3; 4 5 6];\n",
    "\n",
    "pretty_table(data; header = [\"Column 1\", \"Column 2\", \"Column 3\"])"
   ]
  },
  {
   "cell_type": "code",
   "execution_count": 3,
   "metadata": {},
   "outputs": [
    {
     "name": "stdout",
     "output_type": "stream",
     "text": [
      "┌───────┬────────┐\n",
      "│\u001b[1m  Keys \u001b[0m│\u001b[1m Values \u001b[0m│\n",
      "│\u001b[90m Int64 \u001b[0m│\u001b[90m String \u001b[0m│\n",
      "├───────┼────────┤\n",
      "│     5 │    May │\n",
      "│     4 │    Apr │\n",
      "│     6 │    Jun │\n",
      "│     2 │    Feb │\n",
      "│     3 │    Mar │\n",
      "│     1 │    Jan │\n",
      "└───────┴────────┘\n"
     ]
    }
   ],
   "source": [
    "dict = Dict(1 => \"Jan\", 2 => \"Feb\", 3 => \"Mar\", 4 => \"Apr\", 5 => \"May\", 6 => \"Jun\");\n",
    "\n",
    "pretty_table(dict) "
   ]
  },
  {
   "cell_type": "code",
   "execution_count": 6,
   "metadata": {},
   "outputs": [
    {
     "name": "stdout",
     "output_type": "stream",
     "text": [
      "┌───────┬────────┐\n",
      "│\u001b[1m  Keys \u001b[0m│\u001b[1m Values \u001b[0m│\n",
      "│\u001b[90m Int64 \u001b[0m│\u001b[90m String \u001b[0m│\n",
      "├───────┼────────┤\n",
      "│     1 │    Jan │\n",
      "│     2 │    Feb │\n",
      "│     3 │    Mar │\n",
      "│     4 │    Apr │\n",
      "│     5 │    May │\n",
      "│     6 │    Jun │\n",
      "└───────┴────────┘\n"
     ]
    }
   ],
   "source": [
    "pretty_table(dict, sortkeys = true)"
   ]
  },
  {
   "cell_type": "code",
   "execution_count": 22,
   "metadata": {},
   "outputs": [
    {
     "name": "stdout",
     "output_type": "stream",
     "text": [
      "Any[\"test1\" 1 0.42585434033862835; \"test2\" 2 0.08820921976076757; \"test3\" 3 0.4389880710708687]\n",
      "┌────────┬────────┬───────────┐\n",
      "│\u001b[1m Col. 1 \u001b[0m│\u001b[1m Col. 2 \u001b[0m│\u001b[1m    Col. 3 \u001b[0m│\n",
      "├────────┼────────┼───────────┤\n",
      "│  test1 │      1 │  0.425854 │\n",
      "│  test2 │      2 │ 0.0882092 │\n",
      "│  test3 │      3 │  0.438988 │\n",
      "└────────┴────────┴───────────┘\n"
     ]
    }
   ],
   "source": [
    "test1 = \"test1\" ; \n",
    "test2 = \"test2\" ; \n",
    "test3 = \"test3\" ; \n",
    "\n",
    "col1 = Any[\n",
    "    test1 ; \n",
    "    test2 ; \n",
    "    test3 ; \n",
    "] ; \n",
    "\n",
    "col2 = Any[ \n",
    "    1 ; \n",
    "    2 ; \n",
    "    3 ; \n",
    "] ; \n",
    "\n",
    "col3 = rand(3,1) ; \n",
    "\n",
    "data = [col1 col2 col3] ; \n",
    "\n",
    "println(data) \n",
    "pretty_table(data) "
   ]
  }
 ],
 "metadata": {
  "kernelspec": {
   "display_name": "Julia 1.8.3",
   "language": "julia",
   "name": "julia-1.8"
  },
  "language_info": {
   "file_extension": ".jl",
   "mimetype": "application/julia",
   "name": "julia",
   "version": "1.8.3"
  },
  "orig_nbformat": 4
 },
 "nbformat": 4,
 "nbformat_minor": 2
}
