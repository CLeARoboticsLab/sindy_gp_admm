{
 "cells": [
  {
   "cell_type": "markdown",
   "metadata": {},
   "source": [
    "## ADMM "
   ]
  },
  {
   "cell_type": "code",
   "execution_count": 3,
   "metadata": {},
   "outputs": [
    {
     "name": "stdout",
     "output_type": "stream",
     "text": [
      "objective p = 0.5838331746259419"
     ]
    },
    {
     "name": "stdout",
     "output_type": "stream",
     "text": [
      "\n",
      "shrinkage z = [0.6155934226635063; 0.12490046185571654; 0.876926091055854;;]\n"
     ]
    },
    {
     "data": {
      "text/plain": [
       "([1.0904441473716642 0.0 0.0; 1.2033143040059537 0.7048310367527997 0.0; 0.9941078076657761 0.037386891338611984 0.5418033629135732], [1.0904441473716642 1.2033143040059537 0.9941078076657761; 0.0 0.7048310367527997 0.037386891338611984; 0.0 0.0 0.5418033629135732])"
      ]
     },
     "metadata": {},
     "output_type": "display_data"
    }
   ],
   "source": [
    "# define output hist struct \n",
    "struct Hist \n",
    "    objval \n",
    "    r_norm \n",
    "    s_norm \n",
    "    eps_pri \n",
    "    eps_dual \n",
    "end \n",
    "\n",
    "using LinearAlgebra \n",
    "\n",
    "# objective \n",
    "function objective(A, b, lambda, x, z) \n",
    "\n",
    "    p = ( 1/2 * sum( ( A*x - b ).^2 ) + lambda*norm(z,1) ) \n",
    "\n",
    "    return p \n",
    "end \n",
    "\n",
    "# test function \n",
    "A = rand(3,3)  \n",
    "b = rand(3,1)  \n",
    "lambda = 0.1  \n",
    "x = rand(3,1)  \n",
    "z = rand(3,1) \n",
    "p = objective(A, b, lambda, x, z) \n",
    "println(\"objective p = \", p)\n",
    "\n",
    "# shrinkage \n",
    "function shrinkage(x, kappa) \n",
    "\n",
    "    z = 0*x ; \n",
    "    for i = 1:length(x) \n",
    "        z[i] = max( 0, x[i] - kappa ) - max( 0, -x[i] - kappa ) \n",
    "    end \n",
    "\n",
    "    return z \n",
    "end \n",
    "\n",
    "# test shrinkage \n",
    "kappa = 0.1 ; \n",
    "z = shrinkage(x, kappa) ; \n",
    "println(\"shrinkage z = \", z)\n",
    "\n",
    "# cache factorization \n",
    "function factor(A, rho)\n",
    "\n",
    "    m,n =  size(A) ; \n",
    "    if m >= n \n",
    "        C = cholesky( A'*A + rho*I ) \n",
    "    else\n",
    "        C = cholesky( I + 1/rho*(A*A') )  \n",
    "    end \n",
    "    L = C.L  \n",
    "    U = C.U \n",
    "\n",
    "    return L, U \n",
    "end \n",
    "\n",
    "# test \n",
    "rho = 0.1 \n",
    "L, U = factor(A, rho) \n",
    "\n",
    "# end \n",
    "\n",
    "\n"
   ]
  },
  {
   "cell_type": "markdown",
   "metadata": {},
   "source": [
    "### Actual ADMM "
   ]
  },
  {
   "cell_type": "code",
   "execution_count": 4,
   "metadata": {},
   "outputs": [
    {
     "data": {
      "text/plain": [
       "([0.6967286567718355; 0.7135363547254007; 0.7305349360538247;;], Hist(Any[0.42022352709181676, 0.25580689098147424, 0.33908366388610217, 0.24233129839989787, 0.300062230997607, 0.24225902996699142, 0.2805599823974597, 0.245431707073546, 0.2703064759890963, 0.24869735908113821  …  0.2564778066548292, 0.25647780665482917, 0.2564778066548292, 0.2564778066548291, 0.2564778066548292, 0.25647780665482917, 0.2564778066548292, 0.2564778066548292, 0.2564778066548292, 0.2564778066548292], Any[1.5588457268119895, 0.34749100522715515, 1.1585240234311287, 0.07046031239351885, 0.912512658889767, 0.1730877257557556, 0.7580240522688378, 0.29107314947936186, 0.6609472609151177, 0.3669419745196143  …  0.4966350253203484, 0.49663502532034814, 0.49663502532034853, 0.496635025320348, 0.49663502532034864, 0.496635025320348, 0.49663502532034853, 0.49663502532034814, 0.4966350253203484, 0.4966350253203483], Any[2.071708609419906, 1.5013255105782728, 1.1905443513323937, 0.9442757348463305, 0.7489583509326901, 0.594041633390172, 0.4711683667886138, 0.37371055877192116, 0.29641120164163837, 0.23510066386394984  …  2.220446049250313e-16, 3.1401849173675503e-16, 4.965068306494546e-16, 7.021666937153402e-16, 6.280369834735101e-16, 5.438959822042073e-16, 5.438959822042073e-16, 3.8459253727671276e-16, 3.1401849173675503e-16, 2.220446049250313e-16], Any[0.020890291174955947, 0.009331113406455427, 0.017775870070726885, 0.008669522475544542, 0.015829576496824708, 0.009931694570542387, 0.014606746748205009, 0.010896074906859163, 0.013838037529123803, 0.011503652183520674  …  0.012535430784395635, 0.012535430784395634, 0.012535430784395635, 0.012535430784395632, 0.012535430784395635, 0.012535430784395632, 0.012535430784395635, 0.012535430784395634, 0.012535430784395635, 0.012535430784395634], Any[0.0019052558883257667, 0.0019052558883257652, 0.0019052558883257643, 0.001905255888325764, 0.0019052558883257654, 0.001905255888325764, 0.0019052558883257645, 0.0019052558883257645, 0.0019052558883257645, 0.0019052558883257654  …  0.0019052558883257645, 0.0019052558883257654, 0.0019052558883257645, 0.0019052558883257654, 0.0019052558883257645, 0.0019052558883257645, 0.0019052558883257654, 0.001905255888325764, 0.0019052558883257645, 0.001905255888325764]))"
      ]
     },
     "metadata": {},
     "output_type": "display_data"
    }
   ],
   "source": [
    "function lasso_admm(A, b, lamda, rho, alpha) \n",
    "# ------------------------------------------------------------------------\n",
    "# lasso  Solve lasso problem via ADMM\n",
    "#\n",
    "# [z, history] = lasso(A, b, lambda, rho, alpha);\n",
    "#\n",
    "# Solves the following problem via ADMM:\n",
    "#\n",
    "#   minimize 1/2*|| Ax - b ||_2^2 + \\lambda || x ||_1\n",
    "#\n",
    "# The solution is returned in the vector x.\n",
    "#\n",
    "# history is a structure that contains:\n",
    "#   objval   = objective function values \n",
    "#   r_norm   = primal residual norms \n",
    "#   s_norm   = dual residual norms \n",
    "#   eps_pri  = tolerances for the primal norms at each iteration\n",
    "#   eps_dual = tolerance for dual residual norms at each iteration\n",
    "#\n",
    "# rho is the augmented Lagrangian parameter.\n",
    "#\n",
    "# alpha is the over-relaxation parameter (typical values for alpha are\n",
    "# between 1.0 and 1.8).\n",
    "# \n",
    "# Reference: \n",
    "# http://www.stanford.edu/~boyd/papers/distr_opt_stat_learning_admm.html\n",
    "# ------------------------------------------------------------------------\n",
    "\n",
    "    hist = Hist([], [], [], [], [])\n",
    "\n",
    "    # define constants \n",
    "    max_iter = 1000  \n",
    "    abstol   = 1e-4 \n",
    "    reltol   = 1e-2 \n",
    "\n",
    "    # data pre-processing \n",
    "    m, n = size(A) \n",
    "    Atb = A'*b                          # save matrix-vector multiply \n",
    "\n",
    "    # ADMM solver \n",
    "    x = 0*b  \n",
    "    z = 0*b \n",
    "    u = 0*b \n",
    "\n",
    "    # cache factorization \n",
    "    L, U = factor(A, rho) \n",
    "\n",
    "    # begin iterations \n",
    "    for k = 1:max_iter \n",
    "\n",
    "        # x-update \n",
    "        q = Atb + rho*(z .- u)           # temp value \n",
    "        if m >= n                       # if skinny \n",
    "            x = U \\ ( L \\ q ) \n",
    "        else                            # if fat \n",
    "            x = q / rho - ( A' * ( U \\ ( L \\ (A*q) ) ) ) / rho^2 \n",
    "        end \n",
    "\n",
    "        # z-update \n",
    "        z_old = z \n",
    "        x_hat = alpha*x + (1 .- alpha*z_old) \n",
    "        z = shrinkage(x_hat + u, lambda/rho) \n",
    "\n",
    "        # u-update \n",
    "        u = u + (x_hat .- z) \n",
    "\n",
    "        # diagnostics + termination checks \n",
    "        p = objective(A, b, lambda, x, z) \n",
    "        push!( hist.objval, p )\n",
    "        push!( hist.r_norm, norm(x - z) )\n",
    "        push!( hist.s_norm, norm( -rho*(z - z_old) ) )\n",
    "        push!( hist.eps_pri, sqrt(n)*abstol + reltol*max(norm(x), norm(-z)) ) \n",
    "        push!( hist.eps_dual, sqrt(n)*abstol + reltol*norm(rho*u) ) \n",
    "\n",
    "        if hist.r_norm[k] < hist.eps_pri[k] && hist.s_norm[k] < hist.eps_dual[k] \n",
    "            break \n",
    "        end \n",
    "\n",
    "    end \n",
    "\n",
    "    return z, hist \n",
    "end \n",
    "\n",
    "# test \n",
    "x, hist = lasso_admm(A, b, lambda, 1.0, 1.0) "
   ]
  }
 ],
 "metadata": {
  "kernelspec": {
   "display_name": "Julia 1.8.2",
   "language": "julia",
   "name": "julia-1.8"
  },
  "language_info": {
   "file_extension": ".jl",
   "mimetype": "application/julia",
   "name": "julia",
   "version": "1.8.2"
  },
  "orig_nbformat": 4
 },
 "nbformat": 4,
 "nbformat_minor": 2
}
