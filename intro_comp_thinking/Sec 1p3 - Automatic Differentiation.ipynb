{
 "cells": [
  {
   "attachments": {},
   "cell_type": "markdown",
   "metadata": {},
   "source": [
    "## Initialize packages "
   ]
  },
  {
   "cell_type": "code",
   "execution_count": null,
   "metadata": {},
   "outputs": [],
   "source": [
    "# Initialize packages \n",
    "\n",
    "begin \n",
    "\tusing Colors, ColorVectorSpace, ImageShow, FileIO, ImageIO\n",
    "\tusing PlutoUI\n",
    "\tusing HypertextLiteral\n",
    "\tusing LinearAlgebra\n",
    "\tusing ForwardDiff\n",
    "\n",
    "\t# Small patch to make images look more crisp:\n",
    "\t# https://github.com/JuliaImages/ImageShow.jl/pull/50\n",
    "\tBase.showable(::MIME\"text/html\", ::AbstractMatrix{<:Colorant}) = false\n",
    "end "
   ]
  }
 ],
 "metadata": {
  "kernelspec": {
   "display_name": "Julia 1.8.3",
   "language": "julia",
   "name": "julia-1.8"
  },
  "language_info": {
   "name": "julia"
  },
  "orig_nbformat": 4
 },
 "nbformat": 4,
 "nbformat_minor": 2
}
