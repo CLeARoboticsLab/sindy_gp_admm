{
 "cells": [
  {
   "cell_type": "code",
   "execution_count": 2,
   "metadata": {},
   "outputs": [],
   "source": [
    "# Initialize packages \n",
    "\n",
    "begin \n",
    "\tusing Colors, ColorVectorSpace, ImageShow, FileIO, ImageIO\n",
    "\tusing PlutoUI\n",
    "\tusing HypertextLiteral\n",
    "\tusing LinearAlgebra\n",
    "\tusing ForwardDiff\n",
    "\n",
    "\t# Small patch to make images look more crisp:\n",
    "\t# https://github.com/JuliaImages/ImageShow.jl/pull/50\n",
    "\tBase.showable(::MIME\"text/html\", ::AbstractMatrix{<:Colorant}) = false\n",
    "end "
   ]
  },
  {
   "attachments": {},
   "cell_type": "markdown",
   "metadata": {},
   "source": [
    "## Functions in Math and Julia \n",
    "\n",
    "### Univariate Functions \n",
    "\n",
    "... are functions of one variable, e.g. \n",
    "\n",
    "\\begin{equation*} \n",
    "    f_1(x) = x^2 \n",
    "\\end{equation*} \n",
    "\n",
    "\\begin{equation*}\n",
    "    f_2(x) = sin(x) \n",
    "\\end{equation*} \n",
    "\n",
    "\\begin{equation*} \n",
    "    f_3(x) = x^\\alpha\n",
    "\\end{equation*}\n"
   ]
  },
  {
   "cell_type": "code",
   "execution_count": 3,
   "metadata": {},
   "outputs": [
    {
     "name": "stdout",
     "output_type": "stream",
     "text": [
      "f₁(5) = 25\n",
      "f₂(π/2) = 1.0\n",
      "f₃(5) = 125\n"
     ]
    },
    {
     "name": "stdout",
     "output_type": "stream",
     "text": [
      "f₃(5,2) = 25\n",
      "f₄(2, α=5) = 32\n",
      "f₅(2,5) = 32\n"
     ]
    }
   ],
   "source": [
    "# short form \n",
    "f₁(x) = x^2     # subscript unicode: \\_1 + <tab> \n",
    "println(\"f₁(5) = \", f₁(5)) \n",
    "\n",
    "# anonymous form \n",
    "x -> sin(x) \n",
    "a = ( x -> sin(x) )(π/2)\n",
    "println(\"f₂(π/2) = \", a)\n",
    "\n",
    "# long form \n",
    "function f₃(x,α=3) # default parameter \n",
    "    return x^α\n",
    "end \n",
    "println(\"f₃(5) = \", f₃(5)) \n",
    "println(\"f₃(5,2) = \", f₃(5,2)) \n",
    "\n",
    "# keywords ? generic function with 1 method  \n",
    "f₄(x;α) = x^α \n",
    "println(\"f₄(2, α=5) = \", f₄(2, α=5))\n",
    "\n",
    "# anonymous function with 2 methods ? \n",
    "f₅(x,α) = x^α \n",
    "println(\"f₅(2,5) = \", f₅(2,5))\n"
   ]
  },
  {
   "attachments": {},
   "cell_type": "markdown",
   "metadata": {},
   "source": [
    "### Automatic Differentiation of Univariates \n",
    "\n",
    "AD is the bee's knees "
   ]
  },
  {
   "cell_type": "code",
   "execution_count": 4,
   "metadata": {},
   "outputs": [
    {
     "name": "stdout",
     "output_type": "stream",
     "text": [
      "10"
     ]
    },
    {
     "name": "stdout",
     "output_type": "stream",
     "text": [
      "\n",
      "75\n"
     ]
    }
   ],
   "source": [
    "# use with short/long form function \n",
    "df1 = ForwardDiff.derivative(f₁, 5) \n",
    "println(df1) \n",
    "\n",
    "# use with anonymous function (fix α=3)\n",
    "df3 = ForwardDiff.derivative( x->f₃(x,3), 5 )\n",
    "println(df3) \n"
   ]
  },
  {
   "cell_type": "code",
   "execution_count": 5,
   "metadata": {},
   "outputs": [
    {
     "name": "stdout",
     "output_type": "stream",
     "text": [
      "(0.5402980985058647, 0.5403023058681398, 0.5403023058681398)\n",
      "Error from ϵ = -4.207362275021609e-6\n",
      "Error from automatic differentiation = 0.0\n"
     ]
    }
   ],
   "source": [
    "ϵ = 0.00001 ; \n",
    "\n",
    "d1 = (sin(1+ϵ)-sin(1))/ϵ ; \n",
    "d2 = cos(1) ;  \n",
    "d3 = ForwardDiff.derivative(sin,1) ; \n",
    "println((d1, d2, d3)) \n",
    "\n",
    "println(\"Error from ϵ = \", d1 - d2) \n",
    "println(\"Error from automatic differentiation = \", d3 - d2) \n"
   ]
  },
  {
   "attachments": {},
   "cell_type": "markdown",
   "metadata": {},
   "source": [
    "### Scalar Valued Multivariate Functions \n",
    "\n",
    "Let's try with following function: \n",
    "\n",
    "\\begin{equation} \n",
    "    f_5(x) = 5 sin(x_1 x_2) + \\frac{x_2}{2x_3}\n",
    "\\end{equation} \n",
    "\n",
    "Scalar valued functions of more than 1 variable can be written in Julia as a function of many variables OR as a function of a vector: "
   ]
  },
  {
   "cell_type": "code",
   "execution_count": 6,
   "metadata": {},
   "outputs": [
    {
     "data": {
      "text/plain": [
       "(4.879820467461742, 4.879820467461742)"
      ]
     },
     "metadata": {},
     "output_type": "display_data"
    }
   ],
   "source": [
    "begin\n",
    "\tf₅(v) = 5sin(v[1]*v[2]) + 2*v[2]/4v[3]\n",
    "\tf₅(x,y,z) = 5sin(x*y) + 2*y/4z\n",
    "end\n",
    "\n",
    "f₅(1,2,3), f₅([1,2,3])\n"
   ]
  },
  {
   "attachments": {},
   "cell_type": "markdown",
   "metadata": {},
   "source": [
    "However, EVEN BETTER, if you must write it the 2 ways, **don't copy code**! Reuse code so that if it changes in one place, the update propagates everywhere: "
   ]
  },
  {
   "cell_type": "code",
   "execution_count": 7,
   "metadata": {},
   "outputs": [
    {
     "data": {
      "text/plain": [
       "(4.879820467461742, 4.879820467461742)"
      ]
     },
     "metadata": {},
     "output_type": "display_data"
    }
   ],
   "source": [
    "begin\n",
    "\tf₆( x,y,z)  = 5sin(x*y) + 2*y/4z\n",
    "\tf₆( v ) = f₆(v[1],v[2],v[3])\n",
    "end\n",
    "\n",
    "f₆(1,2,3), f₆([1,2,3])"
   ]
  },
  {
   "attachments": {},
   "cell_type": "markdown",
   "metadata": {},
   "source": [
    "Another way to make vector code more readable is to give a tuple argument. The function works directly on vectors but is defined with readable letters: "
   ]
  },
  {
   "cell_type": "code",
   "execution_count": 8,
   "metadata": {},
   "outputs": [
    {
     "name": "stdout",
     "output_type": "stream",
     "text": [
      "Tuple{Int64, Int64, Int64}\n",
      "4.879820467461742\n",
      "Vector{"
     ]
    },
    {
     "name": "stdout",
     "output_type": "stream",
     "text": [
      "Int64}\n",
      "4.879820467461742\n"
     ]
    }
   ],
   "source": [
    "f₇( (x,y,z) ) = 5sin(x*y) + 2*y/4z # more readable then 5sin(v[1]*v[2]) + 2*v[2]/4v[3]\n",
    "\n",
    "a = (1,2,3) ; \n",
    "println(typeof(a))\n",
    "println(f₇(a))\n",
    "\n",
    "b = [1,2,3] ; \n",
    "println(typeof(b))\n",
    "println(f₇(b))\n"
   ]
  },
  {
   "attachments": {},
   "cell_type": "markdown",
   "metadata": {},
   "source": [
    "### Automatic Differentation: Scalar Valued Multivariate Functions \n",
    "\n",
    "Taking derivatives of the function in every argument direction is known as the *gradient*: "
   ]
  },
  {
   "cell_type": "code",
   "execution_count": 9,
   "metadata": {},
   "outputs": [
    {
     "data": {
      "text/plain": [
       "3-element Vector{Float64}:\n",
       " -4.161468365471424\n",
       " -1.9140675160690452\n",
       " -0.1111111111111111"
      ]
     },
     "metadata": {},
     "output_type": "display_data"
    }
   ],
   "source": [
    "ForwardDiff.gradient(f₅, [1,2,3]) "
   ]
  },
  {
   "cell_type": "code",
   "execution_count": 10,
   "metadata": {},
   "outputs": [
    {
     "data": {
      "text/plain": [
       "3-element Vector{Float64}:\n",
       " -4.1615592949462155\n",
       " -1.914090248522626\n",
       " -0.11111074069702907"
      ]
     },
     "metadata": {},
     "output_type": "display_data"
    }
   ],
   "source": [
    "begin \n",
    "    ∂f₅∂x =  (f₅(1+ϵ, 2, 3  ) -f₅(1, 2, 3)) / ϵ\n",
    "\t∂f₅∂y =  (f₅(1, 2+ϵ, 3  ) -f₅(1, 2, 3)) / ϵ\n",
    "\t∂f₅∂z =  (f₅(1, 2,   3+ϵ) -f₅(1, 2, 3)) / ϵ\n",
    "\t∇f = [ ∂f₅∂x , ∂f₅∂y, ∂f₅∂z]\n",
    "end "
   ]
  },
  {
   "attachments": {},
   "cell_type": "markdown",
   "metadata": {},
   "source": [
    "### Automatic Differentiation of Vector-Valued Multivariate Functions (Transformations / Matrices) \n",
    "\n",
    "Let's consider some functions with multidimensional inputs and outputs: "
   ]
  },
  {
   "cell_type": "code",
   "execution_count": 11,
   "metadata": {},
   "outputs": [
    {
     "data": {
      "text/plain": [
       "2-element Vector{Float64}:\n",
       "  5.0\n",
       " -3.9999999999999996"
      ]
     },
     "metadata": {},
     "output_type": "display_data"
    }
   ],
   "source": [
    "begin\n",
    "    idy((x,y)) = [x,y]\n",
    "    lin1((x,y)) =  [ 2x + 3y, -5x+4x ]\n",
    "    scalex(α) = ((x,y),) -> (α*x, y)\n",
    "    scaley(α) = ((x,y),) -> (x,   α*y)\n",
    "    rot(θ) = ((x,y),) -> [cos(θ)*x + sin(θ)*y, -sin(θ)*x + cos(θ)*y]\n",
    "    shear(α) = ((x,y),) -> [x+α*y,y]\n",
    "    genlin(a,b,c,d) = ((x,y),) -> [ a*x + b*y ; c*x + d*y ]\n",
    "end\n",
    "\n",
    "rot(π/2)([4,5])"
   ]
  },
  {
   "attachments": {},
   "cell_type": "markdown",
   "metadata": {},
   "source": [
    "Transformations can be generalized as matrix operations, but some multivariate functions cannot be: "
   ]
  },
  {
   "cell_type": "code",
   "execution_count": 12,
   "metadata": {},
   "outputs": [
    {
     "data": {
      "text/plain": [
       "2-element Vector{Float64}:\n",
       "  6.212853561644088\n",
       " -4.7329114318320356"
      ]
     },
     "metadata": {},
     "output_type": "display_data"
    }
   ],
   "source": [
    "begin\n",
    "\tfunction warp(α)\n",
    "\t\t((x,y),)  -> begin\n",
    "\t\t\tr = √(x^2+y^2)\n",
    "\t\t\tθ=α*r\n",
    "\t\t\trot(θ)([x,y])\n",
    "\t\tend\n",
    "\tend\n",
    "\t\n",
    "\trθ(x) = ( norm(x), atan(x[2],x[1])) # maybe vectors are more readable here?\n",
    "\t\n",
    "\txy((r,θ)) = ( r*cos(θ), r*sin(θ))\n",
    "end\n",
    "\n",
    "warp(1)([5,6])"
   ]
  },
  {
   "attachments": {},
   "cell_type": "markdown",
   "metadata": {},
   "source": [
    "The function `warp` is a rotation which depends on the point where it is applied:  "
   ]
  },
  {
   "cell_type": "code",
   "execution_count": 13,
   "metadata": {},
   "outputs": [
    {
     "data": {
      "text/plain": [
       "2-element Vector{Float64}:\n",
       "  6.212853561644088\n",
       " -4.7329114318320356"
      ]
     },
     "metadata": {},
     "output_type": "display_data"
    }
   ],
   "source": [
    "begin\t\n",
    "\twarp₂(α,x,y) = rot(α*√(x^2+y^2))\n",
    "\twarp₂(α) = ((x,y),) -> warp₂(α,x,y)([x,y])\t\n",
    "end\n",
    "\n",
    "warp₂(1)([5,6])\n"
   ]
  },
  {
   "attachments": {},
   "cell_type": "markdown",
   "metadata": {},
   "source": [
    "### Automatic Differentiation of Transformations "
   ]
  },
  {
   "cell_type": "code",
   "execution_count": 14,
   "metadata": {},
   "outputs": [
    {
     "data": {
      "text/plain": [
       "2×2 Matrix{Float64}:\n",
       "   7.06684    8.0157\n",
       " -10.6677   -11.9586"
      ]
     },
     "metadata": {},
     "output_type": "display_data"
    }
   ],
   "source": [
    "ForwardDiff.jacobian( warp(3), [4,5] )"
   ]
  },
  {
   "attachments": {},
   "cell_type": "markdown",
   "metadata": {},
   "source": [
    "## Using Zygote \n",
    "\n",
    "Using `gradient` calculates derivatives. e.g. The derivative of \n",
    "\n",
    "\\begin{equation*}\n",
    "    3x^2 + 2x + 1\n",
    "\\end{equation*}\n",
    "\n",
    "is \n",
    "\n",
    "\\begin{equation*}\n",
    "    6x + 2\n",
    "\\end{equation*}\n",
    "\n",
    "so when `x = 5`, `dx = 32`. \n",
    "\n"
   ]
  },
  {
   "cell_type": "code",
   "execution_count": 15,
   "metadata": {},
   "outputs": [
    {
     "name": "stdout",
     "output_type": "stream",
     "text": [
      "Anonymous form gradient = (32.0,)\n",
      "Short form gradient = (32.0,)\n"
     ]
    }
   ],
   "source": [
    "using Zygote \n",
    "\n",
    "ag = gradient( x -> 3x^2 + 2x + 1, 5 ) ; \n",
    "println(\"Anonymous form gradient = \", ag)\n",
    "\n",
    "f(x) = 3x^2 + 2x + 1 ; \n",
    "sg = gradient(f, 5)\n",
    "println(\"Short form gradient = \", sg) \n",
    "\n"
   ]
  },
  {
   "attachments": {},
   "cell_type": "markdown",
   "metadata": {},
   "source": [
    "`gradient` returns a tuple, with a gradient for each argument to the function: "
   ]
  },
  {
   "cell_type": "code",
   "execution_count": 16,
   "metadata": {},
   "outputs": [
    {
     "data": {
      "text/plain": [
       "(3.0, 2.0)"
      ]
     },
     "metadata": {},
     "output_type": "display_data"
    }
   ],
   "source": [
    "gradient( (a,b) -> a*b, 2, 3 )"
   ]
  },
  {
   "attachments": {},
   "cell_type": "markdown",
   "metadata": {},
   "source": [
    "`gradient` will work if the arguments are arrays, structs, or some other Julia type, but the function should return a scalar, e.g. a loss or objective $l$, if doing optimization / ML.  "
   ]
  },
  {
   "cell_type": "code",
   "execution_count": 17,
   "metadata": {},
   "outputs": [
    {
     "name": "stdout",
     "output_type": "stream",
     "text": [
      "gradient of sum(W*x) = "
     ]
    },
    {
     "name": "stdout",
     "output_type": "stream",
     "text": [
      "[0.0557311731245792 0.8728705231730179 0.5068780123291883; 0.0557311731245792 0.8728705231730179 0.5068780123291883]\n"
     ]
    }
   ],
   "source": [
    "W = rand(2,3) ; x = rand(3) ; \n",
    "\n",
    "g = gradient( W -> sum(W*x), W)[1]\n",
    "println(\"gradient of sum(W*x) = \", g)\n"
   ]
  }
 ],
 "metadata": {
  "kernelspec": {
   "display_name": "Julia 1.8.3",
   "language": "julia",
   "name": "julia-1.8"
  },
  "language_info": {
   "file_extension": ".jl",
   "mimetype": "application/julia",
   "name": "julia",
   "version": "1.8.2"
  },
  "orig_nbformat": 4
 },
 "nbformat": 4,
 "nbformat_minor": 2
}
