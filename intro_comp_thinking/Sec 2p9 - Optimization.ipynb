{
 "cells": [
  {
   "cell_type": "code",
   "execution_count": 2,
   "metadata": {},
   "outputs": [],
   "source": [
    "using PlutoUI, Plots, Statistics, Optim, JuMP, Ipopt, ForwardDiff"
   ]
  },
  {
   "attachments": {},
   "cell_type": "markdown",
   "metadata": {},
   "source": [
    "## Optimization with Julia!!! "
   ]
  },
  {
   "cell_type": "code",
   "execution_count": 15,
   "metadata": {},
   "outputs": [
    {
     "data": {
      "image/svg+xml": "<?xml version=\"1.0\" encoding=\"utf-8\"?>\n<svg xmlns=\"http://www.w3.org/2000/svg\" xmlns:xlink=\"http://www.w3.org/1999/xlink\" width=\"600\" height=\"400\" viewBox=\"0 0 2400 1600\">\n<defs>\n  <clipPath id=\"clip100\">\n    <rect x=\"0\" y=\"0\" width=\"2400\" height=\"1600\"/>\n  </clipPath>\n</defs>\n<path clip-path=\"url(#clip100)\" d=\"\nM0 1600 L2400 1600 L2400 0 L0 0  Z\n  \" fill=\"#ffffff\" fill-rule=\"evenodd\" fill-opacity=\"1\"/>\n<defs>\n  <clipPath id=\"clip101\">\n    <rect x=\"480\" y=\"0\" width=\"1681\" height=\"1600\"/>\n  </clipPath>\n</defs>\n<path clip-path=\"url(#clip100)\" d=\"\nM242.135 1423.18 L2352.76 1423.18 L2352.76 47.2441 L242.135 47.2441  Z\n  \" fill=\"#ffffff\" fill-rule=\"evenodd\" fill-opacity=\"1\"/>\n<defs>\n  <clipPath id=\"clip102\">\n    <rect x=\"242\" y=\"47\" width=\"2112\" height=\"1377\"/>\n  </clipPath>\n</defs>\n<polyline clip-path=\"url(#clip102)\" style=\"stroke:#000000; stroke-linecap:round; stroke-linejoin:round; stroke-width:2; stroke-opacity:0.1; fill:none\" points=\"\n  407.782,1423.18 407.782,47.2441 \n  \"/>\n<polyline clip-path=\"url(#clip102)\" style=\"stroke:#000000; stroke-linecap:round; stroke-linejoin:round; stroke-width:2; stroke-opacity:0.1; fill:none\" points=\"\n  831.431,1423.18 831.431,47.2441 \n  \"/>\n<polyline clip-path=\"url(#clip102)\" style=\"stroke:#000000; stroke-linecap:round; stroke-linejoin:round; stroke-width:2; stroke-opacity:0.1; fill:none\" points=\"\n  1255.08,1423.18 1255.08,47.2441 \n  \"/>\n<polyline clip-path=\"url(#clip102)\" style=\"stroke:#000000; stroke-linecap:round; stroke-linejoin:round; stroke-width:2; stroke-opacity:0.1; fill:none\" points=\"\n  1678.73,1423.18 1678.73,47.2441 \n  \"/>\n<polyline clip-path=\"url(#clip102)\" style=\"stroke:#000000; stroke-linecap:round; stroke-linejoin:round; stroke-width:2; stroke-opacity:0.1; fill:none\" points=\"\n  2102.38,1423.18 2102.38,47.2441 \n  \"/>\n<polyline clip-path=\"url(#clip100)\" style=\"stroke:#000000; stroke-linecap:round; stroke-linejoin:round; stroke-width:4; stroke-opacity:1; fill:none\" points=\"\n  242.135,1423.18 2352.76,1423.18 \n  \"/>\n<polyline clip-path=\"url(#clip100)\" style=\"stroke:#000000; stroke-linecap:round; stroke-linejoin:round; stroke-width:4; stroke-opacity:1; fill:none\" points=\"\n  407.782,1423.18 407.782,1404.28 \n  \"/>\n<polyline clip-path=\"url(#clip100)\" style=\"stroke:#000000; stroke-linecap:round; stroke-linejoin:round; stroke-width:4; stroke-opacity:1; fill:none\" points=\"\n  831.431,1423.18 831.431,1404.28 \n  \"/>\n<polyline clip-path=\"url(#clip100)\" style=\"stroke:#000000; stroke-linecap:round; stroke-linejoin:round; stroke-width:4; stroke-opacity:1; fill:none\" points=\"\n  1255.08,1423.18 1255.08,1404.28 \n  \"/>\n<polyline clip-path=\"url(#clip100)\" style=\"stroke:#000000; stroke-linecap:round; stroke-linejoin:round; stroke-width:4; stroke-opacity:1; fill:none\" points=\"\n  1678.73,1423.18 1678.73,1404.28 \n  \"/>\n<polyline clip-path=\"url(#clip100)\" style=\"stroke:#000000; stroke-linecap:round; stroke-linejoin:round; stroke-width:4; stroke-opacity:1; fill:none\" points=\"\n  2102.38,1423.18 2102.38,1404.28 \n  \"/>\n<path clip-path=\"url(#clip100)\" d=\"M407.782 1454.1 Q404.17 1454.1 402.342 1457.66 Q400.536 1461.2 400.536 1468.33 Q400.536 1475.44 402.342 1479.01 Q404.17 1482.55 407.782 1482.55 Q411.416 1482.55 413.221 1479.01 Q415.05 1475.44 415.05 1468.33 Q415.05 1461.2 413.221 1457.66 Q411.416 1454.1 407.782 1454.1 M407.782 1450.39 Q413.592 1450.39 416.647 1455 Q419.726 1459.58 419.726 1468.33 Q419.726 1477.06 416.647 1481.67 Q413.592 1486.25 407.782 1486.25 Q401.971 1486.25 398.893 1481.67 Q395.837 1477.06 395.837 1468.33 Q395.837 1459.58 398.893 1455 Q401.971 1450.39 407.782 1450.39 Z\" fill=\"#000000\" fill-rule=\"evenodd\" fill-opacity=\"1\" /><path clip-path=\"url(#clip100)\" d=\"M810.204 1481.64 L826.524 1481.64 L826.524 1485.58 L804.579 1485.58 L804.579 1481.64 Q807.241 1478.89 811.825 1474.26 Q816.431 1469.61 817.612 1468.27 Q819.857 1465.74 820.737 1464.01 Q821.639 1462.25 821.639 1460.56 Q821.639 1457.8 819.695 1456.07 Q817.774 1454.33 814.672 1454.33 Q812.473 1454.33 810.019 1455.09 Q807.588 1455.86 804.811 1457.41 L804.811 1452.69 Q807.635 1451.55 810.088 1450.97 Q812.542 1450.39 814.579 1450.39 Q819.95 1450.39 823.144 1453.08 Q826.338 1455.77 826.338 1460.26 Q826.338 1462.39 825.528 1464.31 Q824.741 1466.2 822.635 1468.8 Q822.056 1469.47 818.954 1472.69 Q815.852 1475.88 810.204 1481.64 Z\" fill=\"#000000\" fill-rule=\"evenodd\" fill-opacity=\"1\" /><path clip-path=\"url(#clip100)\" d=\"M846.338 1454.1 Q842.727 1454.1 840.899 1457.66 Q839.093 1461.2 839.093 1468.33 Q839.093 1475.44 840.899 1479.01 Q842.727 1482.55 846.338 1482.55 Q849.973 1482.55 851.778 1479.01 Q853.607 1475.44 853.607 1468.33 Q853.607 1461.2 851.778 1457.66 Q849.973 1454.1 846.338 1454.1 M846.338 1450.39 Q852.148 1450.39 855.204 1455 Q858.283 1459.58 858.283 1468.33 Q858.283 1477.06 855.204 1481.67 Q852.148 1486.25 846.338 1486.25 Q840.528 1486.25 837.449 1481.67 Q834.394 1477.06 834.394 1468.33 Q834.394 1459.58 837.449 1455 Q840.528 1450.39 846.338 1450.39 Z\" fill=\"#000000\" fill-rule=\"evenodd\" fill-opacity=\"1\" /><path clip-path=\"url(#clip100)\" d=\"M1243.25 1455.09 L1231.45 1473.54 L1243.25 1473.54 L1243.25 1455.09 M1242.02 1451.02 L1247.9 1451.02 L1247.9 1473.54 L1252.83 1473.54 L1252.83 1477.43 L1247.9 1477.43 L1247.9 1485.58 L1243.25 1485.58 L1243.25 1477.43 L1227.65 1477.43 L1227.65 1472.92 L1242.02 1451.02 Z\" fill=\"#000000\" fill-rule=\"evenodd\" fill-opacity=\"1\" /><path clip-path=\"url(#clip100)\" d=\"M1270.57 1454.1 Q1266.96 1454.1 1265.13 1457.66 Q1263.32 1461.2 1263.32 1468.33 Q1263.32 1475.44 1265.13 1479.01 Q1266.96 1482.55 1270.57 1482.55 Q1274.2 1482.55 1276.01 1479.01 Q1277.83 1475.44 1277.83 1468.33 Q1277.83 1461.2 1276.01 1457.66 Q1274.2 1454.1 1270.57 1454.1 M1270.57 1450.39 Q1276.38 1450.39 1279.43 1455 Q1282.51 1459.58 1282.51 1468.33 Q1282.51 1477.06 1279.43 1481.67 Q1276.38 1486.25 1270.57 1486.25 Q1264.76 1486.25 1261.68 1481.67 Q1258.62 1477.06 1258.62 1468.33 Q1258.62 1459.58 1261.68 1455 Q1264.76 1450.39 1270.57 1450.39 Z\" fill=\"#000000\" fill-rule=\"evenodd\" fill-opacity=\"1\" /><path clip-path=\"url(#clip100)\" d=\"M1664.13 1466.44 Q1660.99 1466.44 1659.13 1468.59 Q1657.31 1470.74 1657.31 1474.49 Q1657.31 1478.22 1659.13 1480.39 Q1660.99 1482.55 1664.13 1482.55 Q1667.28 1482.55 1669.11 1480.39 Q1670.96 1478.22 1670.96 1474.49 Q1670.96 1470.74 1669.11 1468.59 Q1667.28 1466.44 1664.13 1466.44 M1673.42 1451.78 L1673.42 1456.04 Q1671.66 1455.21 1669.85 1454.77 Q1668.07 1454.33 1666.31 1454.33 Q1661.68 1454.33 1659.23 1457.45 Q1656.8 1460.58 1656.45 1466.9 Q1657.82 1464.89 1659.88 1463.82 Q1661.94 1462.73 1664.41 1462.73 Q1669.62 1462.73 1672.63 1465.9 Q1675.66 1469.05 1675.66 1474.49 Q1675.66 1479.82 1672.51 1483.03 Q1669.37 1486.25 1664.13 1486.25 Q1658.14 1486.25 1654.97 1481.67 Q1651.8 1477.06 1651.8 1468.33 Q1651.8 1460.14 1655.69 1455.28 Q1659.57 1450.39 1666.13 1450.39 Q1667.88 1450.39 1669.67 1450.74 Q1671.47 1451.09 1673.42 1451.78 Z\" fill=\"#000000\" fill-rule=\"evenodd\" fill-opacity=\"1\" /><path clip-path=\"url(#clip100)\" d=\"M1693.72 1454.1 Q1690.11 1454.1 1688.28 1457.66 Q1686.47 1461.2 1686.47 1468.33 Q1686.47 1475.44 1688.28 1479.01 Q1690.11 1482.55 1693.72 1482.55 Q1697.35 1482.55 1699.16 1479.01 Q1700.99 1475.44 1700.99 1468.33 Q1700.99 1461.2 1699.16 1457.66 Q1697.35 1454.1 1693.72 1454.1 M1693.72 1450.39 Q1699.53 1450.39 1702.58 1455 Q1705.66 1459.58 1705.66 1468.33 Q1705.66 1477.06 1702.58 1481.67 Q1699.53 1486.25 1693.72 1486.25 Q1687.91 1486.25 1684.83 1481.67 Q1681.77 1477.06 1681.77 1468.33 Q1681.77 1459.58 1684.83 1455 Q1687.91 1450.39 1693.72 1450.39 Z\" fill=\"#000000\" fill-rule=\"evenodd\" fill-opacity=\"1\" /><path clip-path=\"url(#clip100)\" d=\"M2087.25 1469.17 Q2083.92 1469.17 2082 1470.95 Q2080.1 1472.73 2080.1 1475.86 Q2080.1 1478.98 2082 1480.77 Q2083.92 1482.55 2087.25 1482.55 Q2090.59 1482.55 2092.51 1480.77 Q2094.43 1478.96 2094.43 1475.86 Q2094.43 1472.73 2092.51 1470.95 Q2090.61 1469.17 2087.25 1469.17 M2082.58 1467.18 Q2079.57 1466.44 2077.88 1464.38 Q2076.21 1462.32 2076.21 1459.35 Q2076.21 1455.21 2079.15 1452.8 Q2082.11 1450.39 2087.25 1450.39 Q2092.41 1450.39 2095.35 1452.8 Q2098.29 1455.21 2098.29 1459.35 Q2098.29 1462.32 2096.6 1464.38 Q2094.94 1466.44 2091.95 1467.18 Q2095.33 1467.96 2097.21 1470.26 Q2099.1 1472.55 2099.1 1475.86 Q2099.1 1480.88 2096.02 1483.57 Q2092.97 1486.25 2087.25 1486.25 Q2081.53 1486.25 2078.46 1483.57 Q2075.4 1480.88 2075.4 1475.86 Q2075.4 1472.55 2077.3 1470.26 Q2079.2 1467.96 2082.58 1467.18 M2080.86 1459.79 Q2080.86 1462.48 2082.53 1463.98 Q2084.22 1465.49 2087.25 1465.49 Q2090.26 1465.49 2091.95 1463.98 Q2093.66 1462.48 2093.66 1459.79 Q2093.66 1457.11 2091.95 1455.6 Q2090.26 1454.1 2087.25 1454.1 Q2084.22 1454.1 2082.53 1455.6 Q2080.86 1457.11 2080.86 1459.79 Z\" fill=\"#000000\" fill-rule=\"evenodd\" fill-opacity=\"1\" /><path clip-path=\"url(#clip100)\" d=\"M2117.41 1454.1 Q2113.8 1454.1 2111.97 1457.66 Q2110.17 1461.2 2110.17 1468.33 Q2110.17 1475.44 2111.97 1479.01 Q2113.8 1482.55 2117.41 1482.55 Q2121.05 1482.55 2122.85 1479.01 Q2124.68 1475.44 2124.68 1468.33 Q2124.68 1461.2 2122.85 1457.66 Q2121.05 1454.1 2117.41 1454.1 M2117.41 1450.39 Q2123.22 1450.39 2126.28 1455 Q2129.36 1459.58 2129.36 1468.33 Q2129.36 1477.06 2126.28 1481.67 Q2123.22 1486.25 2117.41 1486.25 Q2111.6 1486.25 2108.52 1481.67 Q2105.47 1477.06 2105.47 1468.33 Q2105.47 1459.58 2108.52 1455 Q2111.6 1450.39 2117.41 1450.39 Z\" fill=\"#000000\" fill-rule=\"evenodd\" fill-opacity=\"1\" /><path clip-path=\"url(#clip100)\" d=\"M1277.49 1523.77 Q1274.94 1523.77 1273.19 1525.55 Q1271.44 1527.3 1271.44 1529.85 Q1271.44 1532.36 1273.19 1534.11 Q1274.94 1535.83 1277.49 1535.83 Q1280.04 1535.83 1281.79 1534.11 Q1283.54 1532.36 1283.54 1529.85 Q1283.54 1527.34 1281.75 1525.55 Q1280 1523.77 1277.49 1523.77 M1277.49 1519.66 Q1279.53 1519.66 1281.4 1520.46 Q1283.28 1521.22 1284.65 1522.69 Q1286.11 1524.12 1286.85 1525.93 Q1287.58 1527.75 1287.58 1529.85 Q1287.58 1534.05 1284.62 1536.98 Q1281.69 1539.88 1277.43 1539.88 Q1273.13 1539.88 1270.26 1537.01 Q1267.4 1534.15 1267.4 1529.85 Q1267.4 1525.58 1270.33 1522.62 Q1273.26 1519.66 1277.49 1519.66 Z\" fill=\"#000000\" fill-rule=\"evenodd\" fill-opacity=\"1\" /><path clip-path=\"url(#clip100)\" d=\"M1300.18 1520.52 L1327.49 1520.52 L1327.49 1525.93 L1306.61 1525.93 L1306.61 1539.94 L1325.45 1539.94 L1325.45 1545.35 L1306.61 1545.35 L1306.61 1568.04 L1300.18 1568.04 L1300.18 1520.52 Z\" fill=\"#000000\" fill-rule=\"evenodd\" fill-opacity=\"1\" /><polyline clip-path=\"url(#clip102)\" style=\"stroke:#000000; stroke-linecap:round; stroke-linejoin:round; stroke-width:2; stroke-opacity:0.1; fill:none\" points=\"\n  242.135,1223.34 2352.76,1223.34 \n  \"/>\n<polyline clip-path=\"url(#clip102)\" style=\"stroke:#000000; stroke-linecap:round; stroke-linejoin:round; stroke-width:2; stroke-opacity:0.1; fill:none\" points=\"\n  242.135,976.415 2352.76,976.415 \n  \"/>\n<polyline clip-path=\"url(#clip102)\" style=\"stroke:#000000; stroke-linecap:round; stroke-linejoin:round; stroke-width:2; stroke-opacity:0.1; fill:none\" points=\"\n  242.135,729.493 2352.76,729.493 \n  \"/>\n<polyline clip-path=\"url(#clip102)\" style=\"stroke:#000000; stroke-linecap:round; stroke-linejoin:round; stroke-width:2; stroke-opacity:0.1; fill:none\" points=\"\n  242.135,482.572 2352.76,482.572 \n  \"/>\n<polyline clip-path=\"url(#clip102)\" style=\"stroke:#000000; stroke-linecap:round; stroke-linejoin:round; stroke-width:2; stroke-opacity:0.1; fill:none\" points=\"\n  242.135,235.651 2352.76,235.651 \n  \"/>\n<polyline clip-path=\"url(#clip100)\" style=\"stroke:#000000; stroke-linecap:round; stroke-linejoin:round; stroke-width:4; stroke-opacity:1; fill:none\" points=\"\n  242.135,1423.18 242.135,47.2441 \n  \"/>\n<polyline clip-path=\"url(#clip100)\" style=\"stroke:#000000; stroke-linecap:round; stroke-linejoin:round; stroke-width:4; stroke-opacity:1; fill:none\" points=\"\n  242.135,1223.34 261.032,1223.34 \n  \"/>\n<polyline clip-path=\"url(#clip100)\" style=\"stroke:#000000; stroke-linecap:round; stroke-linejoin:round; stroke-width:4; stroke-opacity:1; fill:none\" points=\"\n  242.135,976.415 261.032,976.415 \n  \"/>\n<polyline clip-path=\"url(#clip100)\" style=\"stroke:#000000; stroke-linecap:round; stroke-linejoin:round; stroke-width:4; stroke-opacity:1; fill:none\" points=\"\n  242.135,729.493 261.032,729.493 \n  \"/>\n<polyline clip-path=\"url(#clip100)\" style=\"stroke:#000000; stroke-linecap:round; stroke-linejoin:round; stroke-width:4; stroke-opacity:1; fill:none\" points=\"\n  242.135,482.572 261.032,482.572 \n  \"/>\n<polyline clip-path=\"url(#clip100)\" style=\"stroke:#000000; stroke-linecap:round; stroke-linejoin:round; stroke-width:4; stroke-opacity:1; fill:none\" points=\"\n  242.135,235.651 261.032,235.651 \n  \"/>\n<path clip-path=\"url(#clip100)\" d=\"M114.26 1223.79 L143.936 1223.79 L143.936 1227.72 L114.26 1227.72 L114.26 1223.79 Z\" fill=\"#000000\" fill-rule=\"evenodd\" fill-opacity=\"1\" /><path clip-path=\"url(#clip100)\" d=\"M154.839 1236.68 L162.477 1236.68 L162.477 1210.32 L154.167 1211.98 L154.167 1207.72 L162.431 1206.06 L167.107 1206.06 L167.107 1236.68 L174.746 1236.68 L174.746 1240.62 L154.839 1240.62 L154.839 1236.68 Z\" fill=\"#000000\" fill-rule=\"evenodd\" fill-opacity=\"1\" /><path clip-path=\"url(#clip100)\" d=\"M194.19 1209.13 Q190.579 1209.13 188.75 1212.7 Q186.945 1216.24 186.945 1223.37 Q186.945 1230.48 188.75 1234.04 Q190.579 1237.58 194.19 1237.58 Q197.825 1237.58 199.63 1234.04 Q201.459 1230.48 201.459 1223.37 Q201.459 1216.24 199.63 1212.7 Q197.825 1209.13 194.19 1209.13 M194.19 1205.43 Q200 1205.43 203.056 1210.04 Q206.135 1214.62 206.135 1223.37 Q206.135 1232.1 203.056 1236.7 Q200 1241.29 194.19 1241.29 Q188.38 1241.29 185.301 1236.7 Q182.246 1232.1 182.246 1223.37 Q182.246 1214.62 185.301 1210.04 Q188.38 1205.43 194.19 1205.43 Z\" fill=\"#000000\" fill-rule=\"evenodd\" fill-opacity=\"1\" /><path clip-path=\"url(#clip100)\" d=\"M194.19 962.213 Q190.579 962.213 188.75 965.778 Q186.945 969.32 186.945 976.449 Q186.945 983.556 188.75 987.121 Q190.579 990.662 194.19 990.662 Q197.825 990.662 199.63 987.121 Q201.459 983.556 201.459 976.449 Q201.459 969.32 199.63 965.778 Q197.825 962.213 194.19 962.213 M194.19 958.51 Q200 958.51 203.056 963.116 Q206.135 967.699 206.135 976.449 Q206.135 985.176 203.056 989.783 Q200 994.366 194.19 994.366 Q188.38 994.366 185.301 989.783 Q182.246 985.176 182.246 976.449 Q182.246 967.699 185.301 963.116 Q188.38 958.51 194.19 958.51 Z\" fill=\"#000000\" fill-rule=\"evenodd\" fill-opacity=\"1\" /><path clip-path=\"url(#clip100)\" d=\"M154.839 742.838 L162.477 742.838 L162.477 716.473 L154.167 718.139 L154.167 713.88 L162.431 712.213 L167.107 712.213 L167.107 742.838 L174.746 742.838 L174.746 746.773 L154.839 746.773 L154.839 742.838 Z\" fill=\"#000000\" fill-rule=\"evenodd\" fill-opacity=\"1\" /><path clip-path=\"url(#clip100)\" d=\"M194.19 715.292 Q190.579 715.292 188.75 718.857 Q186.945 722.399 186.945 729.528 Q186.945 736.635 188.75 740.199 Q190.579 743.741 194.19 743.741 Q197.825 743.741 199.63 740.199 Q201.459 736.635 201.459 729.528 Q201.459 722.399 199.63 718.857 Q197.825 715.292 194.19 715.292 M194.19 711.588 Q200 711.588 203.056 716.195 Q206.135 720.778 206.135 729.528 Q206.135 738.255 203.056 742.861 Q200 747.445 194.19 747.445 Q188.38 747.445 185.301 742.861 Q182.246 738.255 182.246 729.528 Q182.246 720.778 185.301 716.195 Q188.38 711.588 194.19 711.588 Z\" fill=\"#000000\" fill-rule=\"evenodd\" fill-opacity=\"1\" /><path clip-path=\"url(#clip100)\" d=\"M158.056 495.917 L174.376 495.917 L174.376 499.852 L152.431 499.852 L152.431 495.917 Q155.093 493.162 159.677 488.533 Q164.283 483.88 165.464 482.537 Q167.709 480.014 168.589 478.278 Q169.491 476.519 169.491 474.829 Q169.491 472.075 167.547 470.338 Q165.626 468.602 162.524 468.602 Q160.325 468.602 157.871 469.366 Q155.44 470.13 152.663 471.681 L152.663 466.959 Q155.487 465.825 157.94 465.246 Q160.394 464.667 162.431 464.667 Q167.802 464.667 170.996 467.352 Q174.19 470.038 174.19 474.528 Q174.19 476.658 173.38 478.579 Q172.593 480.477 170.487 483.07 Q169.908 483.741 166.806 486.959 Q163.704 490.153 158.056 495.917 Z\" fill=\"#000000\" fill-rule=\"evenodd\" fill-opacity=\"1\" /><path clip-path=\"url(#clip100)\" d=\"M194.19 468.371 Q190.579 468.371 188.75 471.936 Q186.945 475.477 186.945 482.607 Q186.945 489.713 188.75 493.278 Q190.579 496.82 194.19 496.82 Q197.825 496.82 199.63 493.278 Q201.459 489.713 201.459 482.607 Q201.459 475.477 199.63 471.936 Q197.825 468.371 194.19 468.371 M194.19 464.667 Q200 464.667 203.056 469.274 Q206.135 473.857 206.135 482.607 Q206.135 491.334 203.056 495.94 Q200 500.524 194.19 500.524 Q188.38 500.524 185.301 495.94 Q182.246 491.334 182.246 482.607 Q182.246 473.857 185.301 469.274 Q188.38 464.667 194.19 464.667 Z\" fill=\"#000000\" fill-rule=\"evenodd\" fill-opacity=\"1\" /><path clip-path=\"url(#clip100)\" d=\"M168.195 234.297 Q171.552 235.014 173.427 237.283 Q175.325 239.551 175.325 242.885 Q175.325 248 171.806 250.801 Q168.288 253.602 161.806 253.602 Q159.63 253.602 157.315 253.163 Q155.024 252.746 152.57 251.889 L152.57 247.376 Q154.515 248.51 156.829 249.088 Q159.144 249.667 161.667 249.667 Q166.065 249.667 168.357 247.931 Q170.672 246.195 170.672 242.885 Q170.672 239.829 168.519 238.116 Q166.39 236.38 162.57 236.38 L158.542 236.38 L158.542 232.538 L162.755 232.538 Q166.204 232.538 168.033 231.172 Q169.862 229.783 169.862 227.19 Q169.862 224.528 167.964 223.116 Q166.089 221.681 162.57 221.681 Q160.649 221.681 158.45 222.098 Q156.251 222.515 153.612 223.394 L153.612 219.228 Q156.274 218.487 158.589 218.116 Q160.927 217.746 162.987 217.746 Q168.311 217.746 171.413 220.177 Q174.514 222.584 174.514 226.704 Q174.514 229.575 172.871 231.565 Q171.227 233.533 168.195 234.297 Z\" fill=\"#000000\" fill-rule=\"evenodd\" fill-opacity=\"1\" /><path clip-path=\"url(#clip100)\" d=\"M194.19 221.45 Q190.579 221.45 188.75 225.015 Q186.945 228.556 186.945 235.686 Q186.945 242.792 188.75 246.357 Q190.579 249.899 194.19 249.899 Q197.825 249.899 199.63 246.357 Q201.459 242.792 201.459 235.686 Q201.459 228.556 199.63 225.015 Q197.825 221.45 194.19 221.45 M194.19 217.746 Q200 217.746 203.056 222.352 Q206.135 226.936 206.135 235.686 Q206.135 244.413 203.056 249.019 Q200 253.602 194.19 253.602 Q188.38 253.602 185.301 249.019 Q182.246 244.413 182.246 235.686 Q182.246 226.936 185.301 222.352 Q188.38 217.746 194.19 217.746 Z\" fill=\"#000000\" fill-rule=\"evenodd\" fill-opacity=\"1\" /><path clip-path=\"url(#clip100)\" d=\"M19.7307 759.306 Q19.7307 761.852 21.5131 763.603 Q23.2636 765.354 25.8099 765.354 Q28.3244 765.354 30.0749 763.603 Q31.7937 761.852 31.7937 759.306 Q31.7937 756.76 30.0749 755.009 Q28.3244 753.259 25.8099 753.259 Q23.2955 753.259 21.5131 755.041 Q19.7307 756.792 19.7307 759.306 M15.6248 759.306 Q15.6248 757.269 16.4205 755.391 Q17.1844 753.513 18.6485 752.145 Q20.0808 750.681 21.895 749.949 Q23.7092 749.217 25.8099 749.217 Q30.0113 749.217 32.9395 752.177 Q35.8359 755.105 35.8359 759.37 Q35.8359 763.667 32.9713 766.531 Q30.1068 769.396 25.8099 769.396 Q21.5449 769.396 18.5848 766.468 Q15.6248 763.539 15.6248 759.306 Z\" fill=\"#000000\" fill-rule=\"evenodd\" fill-opacity=\"1\" /><path clip-path=\"url(#clip100)\" d=\"M20.1444 701.028 L26.9239 701.028 Q23.9002 704.275 22.4043 707.967 Q20.9083 711.627 20.9083 715.765 Q20.9083 723.913 25.9054 728.242 Q30.8707 732.57 40.2919 732.57 Q49.6813 732.57 54.6784 728.242 Q59.6436 723.913 59.6436 715.765 Q59.6436 711.627 58.1477 707.967 Q56.6518 704.275 53.6281 701.028 L60.3439 701.028 Q62.6355 704.402 63.7814 708.19 Q64.9272 711.945 64.9272 716.147 Q64.9272 726.937 58.3387 733.143 Q51.7183 739.35 40.2919 739.35 Q28.8336 739.35 22.2451 733.143 Q15.6248 726.937 15.6248 716.147 Q15.6248 711.882 16.7706 708.126 Q17.8846 704.338 20.1444 701.028 Z\" fill=\"#000000\" fill-rule=\"evenodd\" fill-opacity=\"1\" /><polyline clip-path=\"url(#clip102)\" style=\"stroke:#009af9; stroke-linecap:round; stroke-linejoin:round; stroke-width:4; stroke-opacity:1; fill:none\" stroke-dasharray=\"16, 10\" points=\"\n  301.869,1316.08 407.782,1384.24 556.059,1242.16 746.701,1371.45 810.248,1144.35 873.796,1056.19 979.708,1192.57 1360.99,945.978 1382.18,853.227 2293.02,86.1857 \n  \n  \"/>\n<circle clip-path=\"url(#clip102)\" cx=\"301.869\" cy=\"1316.08\" r=\"14.4\" fill=\"#ff0000\" fill-rule=\"evenodd\" fill-opacity=\"1\" stroke=\"#000000\" stroke-opacity=\"1\" stroke-width=\"3.2\"/>\n<circle clip-path=\"url(#clip102)\" cx=\"407.782\" cy=\"1384.24\" r=\"14.4\" fill=\"#ff0000\" fill-rule=\"evenodd\" fill-opacity=\"1\" stroke=\"#000000\" stroke-opacity=\"1\" stroke-width=\"3.2\"/>\n<circle clip-path=\"url(#clip102)\" cx=\"556.059\" cy=\"1242.16\" r=\"14.4\" fill=\"#ff0000\" fill-rule=\"evenodd\" fill-opacity=\"1\" stroke=\"#000000\" stroke-opacity=\"1\" stroke-width=\"3.2\"/>\n<circle clip-path=\"url(#clip102)\" cx=\"746.701\" cy=\"1371.45\" r=\"14.4\" fill=\"#ff0000\" fill-rule=\"evenodd\" fill-opacity=\"1\" stroke=\"#000000\" stroke-opacity=\"1\" stroke-width=\"3.2\"/>\n<circle clip-path=\"url(#clip102)\" cx=\"810.248\" cy=\"1144.35\" r=\"14.4\" fill=\"#ff0000\" fill-rule=\"evenodd\" fill-opacity=\"1\" stroke=\"#000000\" stroke-opacity=\"1\" stroke-width=\"3.2\"/>\n<circle clip-path=\"url(#clip102)\" cx=\"873.796\" cy=\"1056.19\" r=\"14.4\" fill=\"#ff0000\" fill-rule=\"evenodd\" fill-opacity=\"1\" stroke=\"#000000\" stroke-opacity=\"1\" stroke-width=\"3.2\"/>\n<circle clip-path=\"url(#clip102)\" cx=\"979.708\" cy=\"1192.57\" r=\"14.4\" fill=\"#ff0000\" fill-rule=\"evenodd\" fill-opacity=\"1\" stroke=\"#000000\" stroke-opacity=\"1\" stroke-width=\"3.2\"/>\n<circle clip-path=\"url(#clip102)\" cx=\"1360.99\" cy=\"945.978\" r=\"14.4\" fill=\"#ff0000\" fill-rule=\"evenodd\" fill-opacity=\"1\" stroke=\"#000000\" stroke-opacity=\"1\" stroke-width=\"3.2\"/>\n<circle clip-path=\"url(#clip102)\" cx=\"1382.18\" cy=\"853.227\" r=\"14.4\" fill=\"#ff0000\" fill-rule=\"evenodd\" fill-opacity=\"1\" stroke=\"#000000\" stroke-opacity=\"1\" stroke-width=\"3.2\"/>\n<circle clip-path=\"url(#clip102)\" cx=\"2293.02\" cy=\"86.1857\" r=\"14.4\" fill=\"#ff0000\" fill-rule=\"evenodd\" fill-opacity=\"1\" stroke=\"#000000\" stroke-opacity=\"1\" stroke-width=\"3.2\"/>\n</svg>\n"
     },
     "execution_count": 15,
     "metadata": {},
     "output_type": "execute_result"
    }
   ],
   "source": [
    "n = 10 ; \n",
    "x = sort( rand( -10:100, n ) )\n",
    "y = 5/9 .* x .- 17.777 .+ 5 .* randn.()  #  same as y =  5/9 .* (x .- 32)\n",
    "\n",
    "begin \n",
    "    plot(x,y, m=:c, mc=:red, legend=false, ls=:dash) \n",
    "    xlabel!(\"°F\")\n",
    "    ylabel!(\"°C\")\n",
    "end "
   ]
  },
  {
   "attachments": {},
   "cell_type": "markdown",
   "metadata": {},
   "source": [
    "## Least Squares Fitting \n",
    "\n",
    "Given data $x_i$ and measurements $y_i$, *least squares fitting* finds the best slope, $m$, and intercept, $b$, that minimizes the square of the error:\n",
    "\n",
    "\\begin{equation*}\n",
    "    \\operatorname*{argmin}_{m, b} \\sum \\Big( ( b + mx_i ) - y_i \\Big)^2 \n",
    "\\end{equation*}\n"
   ]
  },
  {
   "cell_type": "code",
   "execution_count": 37,
   "metadata": {},
   "outputs": [
    {
     "name": "stdout",
     "output_type": "stream",
     "text": [
      "y = (0.5350616218522564) x + (-17.587082279528833)\n",
      "y = (0.5350616218522564) x + (-17.587082279528833)\n"
     ]
    }
   ],
   "source": [
    "# The Statistician's Formula \n",
    "\n",
    "begin \n",
    "\n",
    "    m = cov(x,y) / var(x) \n",
    "    m_ls = (x .- mean(x)) \\ (y .- mean(y)) \n",
    "    b = mean(y) - m_ls * mean(x)  \n",
    "\n",
    "end \n",
    "\n",
    "println(\"y = (\", m, \") x + (\", b, \")\" )\n",
    "println(\"y = (\", m_ls, \") x + (\", b, \")\" )"
   ]
  },
  {
   "cell_type": "code",
   "execution_count": 36,
   "metadata": {},
   "outputs": [
    {
     "name": "stdout",
     "output_type": "stream",
     "text": [
      "y = (0.535061621852256) x + (-17.58708227952882)\n"
     ]
    }
   ],
   "source": [
    "# The Linear Algebraist's Formula \n",
    "\n",
    "line = [one.(x) x]\\y\n",
    "b = line[1]  \n",
    "m = line[2] \n",
    "\n",
    "println(\"y = (\", m, \") x + (\", b, \")\" )\n"
   ]
  },
  {
   "attachments": {},
   "cell_type": "markdown",
   "metadata": {},
   "source": [
    "## Optimization Methods \n",
    "\n",
    "Least squares is actually an optimization problem - rather than using linear algebra, use optimization algorithms (overkill for lines) to find solution! \n",
    "\n",
    "### Optim.jl: Julia's optimization package \n",
    "\n",
    "Link to documentation: https://julianlsolvers.github.io/Optim.jl/stable/# \n",
    "\n",
    "Use `Optim.jl` to solve: \n",
    "\n",
    "\\begin{equation*}\n",
    "    \\operatorname*{argmin}_{m, b} \\sum_{i=1}^{n} \\Big[ ( b + mx_i ) - y_i \\Big]^2 \n",
    "\\end{equation*}\n",
    "\n",
    "as: \n",
    "\n",
    "\\begin{equation*}\n",
    "    \\operatorname*{argmin}_{m, b} loss(b,m) \n",
    "\\end{equation*}"
   ]
  },
  {
   "cell_type": "code",
   "execution_count": 45,
   "metadata": {},
   "outputs": [
    {
     "name": "stdout",
     "output_type": "stream",
     "text": [
      " * Status: success\n",
      "\n",
      " * Candidate solution\n",
      "    Final objective value:     2.081839e+02\n",
      "\n",
      " * Found with\n",
      "    Algorithm:     Nelder-Mead\n",
      "\n",
      " * Convergence measures\n",
      "    √(Σ(yᵢ-ȳ)²)/n ≤ 1.0e-08\n",
      "\n",
      " * Work counters\n",
      "    Seconds run:   0  (vs limit Inf)\n",
      "    Iterations:    62\n",
      "    f(x) calls:    119\n",
      "\n"
     ]
    }
   ],
   "source": [
    "# loss function \n",
    "loss( (b,m) ) = sum( ( b + m*x[i] - y[i] )^2 for i = 1:n )\n",
    "\n",
    "result = optimize( loss, [0.0, 0.0] )\n",
    "println(result) \n"
   ]
  },
  {
   "cell_type": "code",
   "execution_count": 46,
   "metadata": {},
   "outputs": [
    {
     "data": {
      "text/plain": [
       "2-element Vector{Float64}:\n",
       " -17.58709174165527\n",
       "   0.5350614977610846"
      ]
     },
     "metadata": {},
     "output_type": "display_data"
    }
   ],
   "source": [
    "display(result.minimizer) "
   ]
  },
  {
   "attachments": {},
   "cell_type": "markdown",
   "metadata": {},
   "source": [
    "### `JuMP.jl`: A popular modelling language for Optimization Problems \n",
    "\n",
    "JuMP = Julia for Mathematical Programming "
   ]
  },
  {
   "cell_type": "code",
   "execution_count": 52,
   "metadata": {},
   "outputs": [
    {
     "name": "stdout",
     "output_type": "stream",
     "text": [
      "This is Ipopt version 3.14.4, running with linear solver MUMPS 5.4.1.\n",
      "\n",
      "Number of nonzeros in equality constraint Jacobian...:        0\n",
      "Number of nonzeros in inequality constraint Jacobian.:        0\n",
      "Number of nonzeros in Lagrangian Hessian.............:        3\n",
      "\n",
      "Total number of variables............................:        2\n",
      "                     variables with only lower bounds:        0\n",
      "                variables with lower and upper bounds:        0\n",
      "                     variables with only upper bounds:        0\n",
      "Total number of equality constraints.................:        0\n",
      "Total number of inequality constraints...............:        0\n",
      "        inequality constraints with only lower bounds:        0\n",
      "   inequality constraints with lower and upper bounds:        0\n",
      "        inequality constraints with only upper bounds:        0\n",
      "\n",
      "iter    objective    inf_pr   inf_du lg(mu)  ||d||  lg(rg) alpha_du alpha_pr  ls\n",
      "   0  2.2933659e+03 0.00e+00 1.00e+02  -1.0 0.00e+00    -  0.00e+00 0.00e+00   0\n",
      "   1  2.0818392e+02 0.00e+00 0.00e+00  -1.0 1.76e+01    -  1.00e+00 1.00e+00f  1\n",
      "\n",
      "Number of Iterations....: 1\n",
      "\n",
      "                                   (scaled)                 (unscaled)\n",
      "Objective...............:   3.7248777233756343e+00    2.0818391691334818e+02\n",
      "Dual infeasibility......:   0.0000000000000000e+00    0.0000000000000000e+00\n",
      "Constraint violation....:   0.0000000000000000e+00    0.0000000000000000e+00\n",
      "Variable bound violation:   0.0000000000000000e+00    0.0000000000000000e+00\n",
      "Complementarity.........:   0.0000000000000000e+00    0.0000000000000000e+00\n",
      "Overall NLP error.......:   0.0000000000000000e+00    0.0000000000000000e+00\n",
      "\n",
      "\n",
      "Number of objective function evaluations             = 2\n",
      "Number of objective gradient evaluations             = 2\n",
      "Number of equality constraint evaluations            = 0\n",
      "Number of inequality constraint evaluations          = 0\n",
      "Number of equality constraint Jacobian evaluations   = 0\n",
      "Number of inequality constraint Jacobian evaluations = 0\n",
      "Number of Lagrangian Hessian evaluations             = 1\n",
      "Total seconds in IPOPT                               = 0.001\n",
      "\n",
      "EXIT: Optimal Solution Found.\n"
     ]
    },
    {
     "data": {
      "text/plain": [
       "(b = -17.587082279528826, v = 0.5350616218522563)"
      ]
     },
     "execution_count": 52,
     "metadata": {},
     "output_type": "execute_result"
    }
   ],
   "source": [
    "let \n",
    "\n",
    "    n = length(x) \n",
    "    model = Model(Ipopt.Optimizer) \n",
    "\n",
    "    @variable(model, b) \n",
    "    @variable(model, m) \n",
    "\n",
    "    # must write out objective function again ... can't input loss \n",
    "    @objective( model, Min, sum( ( b + m*x[i] - y[i] )^2 for i = 1:n ) )\n",
    "\n",
    "    # set_silent(model) \n",
    "    optimize!(model) \n",
    "\n",
    "    ( b = value(b), v = value(m) )\n",
    "\n",
    "end "
   ]
  },
  {
   "attachments": {},
   "cell_type": "markdown",
   "metadata": {},
   "source": [
    "## Gradients \n",
    "\n",
    "Here are 3 ways to compute gradients: \n",
    "1. Hand computation \n",
    "2. Finite differencing \n",
    "3. Autodifferentiation \n",
    "\n",
    "### Hand computation \n",
    "\n",
    "Differentiate with respect to $b$: \n",
    "\\begin{equation*}\n",
    "    \\frac{\\partial}{\\partial b} \\sum_{i=1} ^{n} \\Big[ ( b + mx_i ) - y_i \\Big]^2 \n",
    "    = \n",
    "    2 \\sum_{i=1}^{n} \\Big[ ( b + mx_i ) - y_i \\Big] \n",
    "\\end{equation*}\n",
    "\n",
    "Differentiate with respect to $m$: \n",
    "\\begin{equation*}\n",
    "    \\frac{\\partial}{\\partial m} \\sum_{i=1} ^{n} \\Big[ ( b + mx_i ) - y_i \\Big]^2 \n",
    "    = \n",
    "    2 \\sum_{i=1}^{n} \\Big[ ( b + mx_i ) - y_i \\Big] x_i \n",
    "\\end{equation*}"
   ]
  },
  {
   "cell_type": "code",
   "execution_count": 64,
   "metadata": {},
   "outputs": [
    {
     "data": {
      "text/plain": [
       "2-element Vector{Float64}:\n",
       "  228.68886276517625\n",
       " 2843.7865511321124"
      ]
     },
     "execution_count": 64,
     "metadata": {},
     "output_type": "execute_result"
    }
   ],
   "source": [
    "begin\n",
    "\n",
    "    #i-th summand \n",
    "    ∇loss(b,m,i) = 2 * ( b + m*x[i] - y[i] ) .* [1, x[i]]  \n",
    "    ∇loss(b,m) = sum(∇loss(b,m,i) for i = 1:n)\n",
    "\n",
    "end \n",
    "\n",
    "b_loss = 0.1 ; \n",
    "m_loss = 0.3 ; \n",
    "∇loss(b_loss, m_loss) "
   ]
  },
  {
   "attachments": {},
   "cell_type": "markdown",
   "metadata": {},
   "source": [
    "### Finite Difference "
   ]
  },
  {
   "cell_type": "code",
   "execution_count": 70,
   "metadata": {},
   "outputs": [
    {
     "data": {
      "text/plain": [
       "2-element Vector{Float64}:\n",
       "  228.68971427669746\n",
       " 2843.786887751776"
      ]
     },
     "execution_count": 70,
     "metadata": {},
     "output_type": "execute_result"
    }
   ],
   "source": [
    "begin \n",
    "\n",
    "    ϵ = .000000001; \n",
    "    db = ( loss( [b_loss + ϵ, m_loss] ) - loss([b_loss, m_loss])) / ϵ ; \n",
    "    dm = ( loss( [b_loss, m_loss + ϵ] ) - loss([b_loss, m_loss])) / ϵ ; \n",
    "    dbdm = [db; dm]\n",
    "\n",
    "end "
   ]
  },
  {
   "cell_type": "code",
   "execution_count": 73,
   "metadata": {},
   "outputs": [
    {
     "data": {
      "text/plain": [
       "2-element Vector{Float64}:\n",
       "  228.68971427669746\n",
       " 2843.786887751776"
      ]
     },
     "execution_count": 73,
     "metadata": {},
     "output_type": "execute_result"
    }
   ],
   "source": [
    "# shorter way in Julia: \n",
    "begin # finite difference\n",
    "\tϵ = .000000001\n",
    "\t( [loss([b_loss + ϵ , m_loss]);\n",
    "       loss([b_loss , m_loss + ϵ])] .- loss([b_loss , m_loss]) ) ./ ϵ\n",
    "end"
   ]
  },
  {
   "attachments": {},
   "cell_type": "markdown",
   "metadata": {},
   "source": [
    "### Automatic Differentiation (AutoDiff) \n",
    "\n",
    "LET THE COMPUTER DO IT "
   ]
  },
  {
   "cell_type": "code",
   "execution_count": 78,
   "metadata": {},
   "outputs": [
    {
     "name": "stdout",
     "output_type": "stream",
     "text": [
      "Hand Gradient = [228.68886276517625, 2843.7865511321124]\n",
      "AutoDiff gradient = [228.68886276517625, 2843.7865511321124]\n"
     ]
    }
   ],
   "source": [
    "hand_g = ∇loss(b_loss, m_loss) \n",
    "println(\"Hand Gradient = \", hand_g)\n",
    "\n",
    "auto_g = ForwardDiff.gradient( loss, [b_loss, m_loss] ) \n",
    "println(\"AutoDiff gradient = \", auto_g)\n"
   ]
  },
  {
   "attachments": {},
   "cell_type": "markdown",
   "metadata": {},
   "source": [
    "Observe some options for `optimize`: "
   ]
  },
  {
   "cell_type": "code",
   "execution_count": 85,
   "metadata": {},
   "outputs": [
    {
     "data": {
      "text/plain": [
       " * Status: success\n",
       "\n",
       " * Candidate solution\n",
       "    Final objective value:     2.081839e+02\n",
       "\n",
       " * Found with\n",
       "    Algorithm:     BFGS\n",
       "\n",
       " * Convergence measures\n",
       "    |x - x'|               = 1.76e+01 ≰ 0.0e+00\n",
       "    |x - x'|/|x'|          = 1.00e+00 ≰ 0.0e+00\n",
       "    |f(x) - f(x')|         = 1.53e+03 ≰ 0.0e+00\n",
       "    |f(x) - f(x')|/|f(x')| = 7.33e+00 ≰ 0.0e+00\n",
       "    |g(x)|                 = 1.82e-12 ≤ 1.0e-08\n",
       "\n",
       " * Work counters\n",
       "    Seconds run:   0  (vs limit Inf)\n",
       "    Iterations:    2\n",
       "    f(x) calls:    5\n",
       "    ∇f(x) calls:   5\n"
      ]
     },
     "metadata": {},
     "output_type": "display_data"
    },
    {
     "name": "stdout",
     "output_type": "stream",
     "text": [
      "Minimizer = [-17.58708227952883, 0.5350616218522563]\n"
     ]
    }
   ],
   "source": [
    "# optimize with starting guess [0.0, 0.0]\n",
    "result = optimize(loss, [0.0,0.0], BFGS(),  autodiff=:forward)\n",
    "display(result) \n",
    "\n",
    "println(\"Minimizer = \", result.minimizer) "
   ]
  },
  {
   "cell_type": "code",
   "execution_count": 86,
   "metadata": {},
   "outputs": [
    {
     "data": {
      "text/plain": [
       " * Status: success (objective increased between iterations)\n",
       "\n",
       " * Candidate solution\n",
       "    Final objective value:     2.081839e+02\n",
       "\n",
       " * Found with\n",
       "    Algorithm:     BFGS\n",
       "\n",
       " * Convergence measures\n",
       "    |x - x'|               = 1.84e-09 ≰ 0.0e+00\n",
       "    |x - x'|/|x'|          = 1.05e-10 ≰ 0.0e+00\n",
       "    |f(x) - f(x')|         = 2.84e-14 ≰ 0.0e+00\n",
       "    |f(x) - f(x')|/|f(x')| = 1.37e-16 ≰ 0.0e+00\n",
       "    |g(x)|                 = 4.69e-09 ≤ 1.0e-08\n",
       "\n",
       " * Work counters\n",
       "    Seconds run:   0  (vs limit Inf)\n",
       "    Iterations:    3\n",
       "    f(x) calls:    8\n",
       "    ∇f(x) calls:   8\n"
      ]
     },
     "execution_count": 86,
     "metadata": {},
     "output_type": "execute_result"
    }
   ],
   "source": [
    "optimize( loss, [0.0, 0.0], BFGS() )\n"
   ]
  },
  {
   "cell_type": "code",
   "execution_count": 87,
   "metadata": {},
   "outputs": [
    {
     "data": {
      "text/plain": [
       " * Status: success\n",
       "\n",
       " * Candidate solution\n",
       "    Final objective value:     2.081839e+02\n",
       "\n",
       " * Found with\n",
       "    Algorithm:     Gradient Descent\n",
       "\n",
       " * Convergence measures\n",
       "    |x - x'|               = 1.64e-10 ≰ 0.0e+00\n",
       "    |x - x'|/|x'|          = 9.35e-12 ≰ 0.0e+00\n",
       "    |f(x) - f(x')|         = 0.00e+00 ≤ 0.0e+00\n",
       "    |f(x) - f(x')|/|f(x')| = 0.00e+00 ≤ 0.0e+00\n",
       "    |g(x)|                 = 8.75e-08 ≰ 1.0e-08\n",
       "\n",
       " * Work counters\n",
       "    Seconds run:   0  (vs limit Inf)\n",
       "    Iterations:    133\n",
       "    f(x) calls:    595\n",
       "    ∇f(x) calls:   595\n"
      ]
     },
     "execution_count": 87,
     "metadata": {},
     "output_type": "execute_result"
    }
   ],
   "source": [
    "optimize( loss, [0.0, 0.0], GradientDescent() )\n"
   ]
  }
 ],
 "metadata": {
  "kernelspec": {
   "display_name": "Julia 1.8.3",
   "language": "julia",
   "name": "julia-1.8"
  },
  "language_info": {
   "file_extension": ".jl",
   "mimetype": "application/julia",
   "name": "julia",
   "version": "1.8.3"
  },
  "orig_nbformat": 4
 },
 "nbformat": 4,
 "nbformat_minor": 2
}
