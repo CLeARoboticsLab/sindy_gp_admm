{
 "cells": [
  {
   "cell_type": "code",
   "execution_count": 2,
   "metadata": {},
   "outputs": [
    {
     "name": "stderr",
     "output_type": "stream",
     "text": [
      "┌ Info: Precompiling Plots [91a5bcdd-55d7-5caf-9e0b-520d859cae80]\n",
      "└ @ Base loading.jl:1664\n",
      "\u001b[33m\u001b[1m┌ \u001b[22m\u001b[39m\u001b[33m\u001b[1mWarning: \u001b[22m\u001b[39mbackend `GR` is not installed.\n",
      "\u001b[33m\u001b[1m└ \u001b[22m\u001b[39m\u001b[90m@ Plots C:\\Users\\junet\\.julia\\packages\\Plots\\M4dfL\\src\\backends.jl:37\u001b[39m\n",
      "\u001b[36m\u001b[1m[ \u001b[22m\u001b[39m\u001b[36m\u001b[1mInfo: \u001b[22m\u001b[39mGR\n",
      "WARNING: using Zygote.jacobian in module Main conflicts with an existing identifier.\n"
     ]
    }
   ],
   "source": [
    "begin\n",
    "    using Symbolics, ForwardDiff, Plots, PlutoUI, LaTeXStrings\n",
    "\tusing ForwardDiff: jacobian \n",
    "    using Zygote \n",
    "end"
   ]
  },
  {
   "attachments": {},
   "cell_type": "markdown",
   "metadata": {},
   "source": [
    "## Newton's Method \n",
    "\n",
    "\\begin{equation*} \n",
    "    x_{n+1} = x_n - \\frac{f(x_n)}{f'(x_n)}\n",
    "\\end{equation*} "
   ]
  },
  {
   "cell_type": "code",
   "execution_count": 29,
   "metadata": {},
   "outputs": [
    {
     "name": "stdout",
     "output_type": "stream",
     "text": [
      "Zygote and ForwardDiff gradient error = 0.0\n",
      "Zygote and ForwardDiff gradient error = 0.0\n",
      "Zygote and ForwardDiff gradient error = 0.0\n",
      "Zygote and ForwardDiff gradient error = 0.0\n",
      "Zygote and ForwardDiff gradient error = 0.0\n",
      "Zygote and ForwardDiff gradient error = 0.0\n",
      "Zygote and ForwardDiff gradient error = 0.0\n",
      "x_np1 = 1.660938435941485e-16\n",
      "k = 7\n"
     ]
    }
   ],
   "source": [
    "f(x) = sin(x) + x^3 ; \n",
    "\n",
    "# define params \n",
    "x0 = 3 ; \n",
    "ϵ  = 1e-6 ; \n",
    "k  = 0 ; \n",
    "\n",
    "x_n = x0 ; \n",
    "while f(x_n) > ϵ\n",
    "\n",
    "    # increase iter \n",
    "    k += 1 ; \n",
    "    \n",
    "    # find derivative \n",
    "    g_z = gradient(f, x_n) ;                    # Zygote \n",
    "    g_f = ForwardDiff.derivative(f, x_n) ;      # ForwardDiff \n",
    "    println(\"Zygote and ForwardDiff gradient error = \", g_z[1] - g_f) ; \n",
    "\n",
    "    # find x_np1 \n",
    "    x_n -= f(x_n) / g_f ; \n",
    "    \n",
    "end \n",
    "\n",
    "println(\"x_np1 = \", x_np1)\n",
    "println(\"k = \", k)"
   ]
  }
 ],
 "metadata": {
  "kernelspec": {
   "display_name": "Julia 1.8.3",
   "language": "julia",
   "name": "julia-1.8"
  },
  "language_info": {
   "file_extension": ".jl",
   "mimetype": "application/julia",
   "name": "julia",
   "version": "1.8.3"
  },
  "orig_nbformat": 4
 },
 "nbformat": 4,
 "nbformat_minor": 2
}
